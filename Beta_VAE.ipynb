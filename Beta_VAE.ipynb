{
  "cells": [
    {
      "cell_type": "markdown",
      "metadata": {
        "id": "vx2Bm_3IKXEt"
      },
      "source": [
        "# ***Image generation of FASHION-MNIST via β-VAE***"
      ]
    },
    {
      "cell_type": "markdown",
      "metadata": {
        "id": "kh_PpFMVKXFA"
      },
      "source": [
        "Loading FAHSION MNIST dataset"
      ]
    },
    {
      "cell_type": "code",
      "execution_count": null,
      "metadata": {
        "id": "VI6rLA4_KXFB"
      },
      "outputs": [],
      "source": []
    },
    {
      "cell_type": "markdown",
      "metadata": {
        "id": "5BNRLQm9KXFJ"
      },
      "source": [
        "#**Theory**"
      ]
    },
    {
      "cell_type": "markdown",
      "metadata": {
        "id": "E9UZ75TyOm8I"
      },
      "source": [
        "**Encoder and decoder of VAE are decoded as follows.**\n",
        "- Encoder (Gaussian distribution)：$$q_{\\phi}({\\bf z}|{\\bf x}) = {\\mathcal N}({\\bf z}| \\mu,\\sigma^2{\\bf I}), 　s.t.　\\mu=g^{\\mu}_{\\phi}({\\bf x}), \\sigma=g^{\\sigma}_{\\phi}({\\bf x}). $$\n",
        "- Decoder (Bernoulli distribution)：$$p_{\\theta}({\\bf x}|{\\bf z}) = Ber({\\bf x}| \\lambda), 　s.t.　\\lambda=f_{\\theta}({\\bf z}).$$\n",
        "<br>\n",
        "\n",
        "**ELBO (Evidence Lower BOund) is represented like below.**  The first and the second term are corresponding to (minus) reconstruction loss and KL divergence, respectively. For the implementation of β-VAE, the coefficient β(>1) in the regularisation term of the objective function is needed in order to make the model more disentangled.\n",
        "\n",
        "\n",
        "$$\n",
        " {\\mathcal L}({\\bf x};{\\bf \\theta},{\\bf \\phi}) = \\mathbb{E}_{q_{\\phi}({\\bf z}|{\\bf x})}[\\log p_\\theta({\\bf x}|{\\bf z})] -\\beta D_{KL}[q_{\\phi}({\\bf z}|{\\bf x})||p_{\\theta}({\\bf z})]\n",
        " $$  "
      ]
    },
    {
      "cell_type": "markdown",
      "metadata": {
        "id": "oWwOTcCzRNXb"
      },
      "source": [
        "#**MODEL**"
      ]
    },
    {
      "cell_type": "code",
      "execution_count": null,
      "metadata": {
        "id": "vscw3ifeKXFN"
      },
      "outputs": [],
      "source": [
        "\n",
        "# DEFINE MODEL\n",
        "class BetaVAE(nn.Module):\n"
      ]
    },
    {
      "cell_type": "markdown",
      "metadata": {
        "id": "oYo_zWwBjrJ4"
      },
      "source": [
        "# **TRAINING**"
      ]
    },
    {
      "cell_type": "code",
      "execution_count": null,
      "metadata": {
        "id": "piYhKL_X7Hko"
      },
      "outputs": [],
      "source": []
    },
    {
      "cell_type": "markdown",
      "metadata": {
        "id": "PbS4E_GHKXFl"
      },
      "source": [
        "**Visualization of reconstructed image**"
      ]
    },
    {
      "cell_type": "markdown",
      "metadata": {
        "id": "ZpVnPZjXKXFy"
      },
      "source": [
        "Original image"
      ]
    },
    {
      "cell_type": "code",
      "execution_count": null,
      "metadata": {
        "colab": {
          "background_save": true
        },
        "id": "qjmtt1XWQz8K"
      },
      "outputs": [],
      "source": []
    },
    {
      "cell_type": "markdown",
      "metadata": {
        "id": "nVHNlRWAKXF6"
      },
      "source": [
        "Reconstructed image"
      ]
    },
    {
      "cell_type": "code",
      "execution_count": null,
      "metadata": {
        "colab": {
          "background_save": true
        },
        "id": "USCsz3HFSlJS"
      },
      "outputs": [],
      "source": []
    },
    {
      "cell_type": "markdown",
      "metadata": {
        "id": "WIUlxxxEKXF-"
      },
      "source": [
        "Random sampling from latent variable"
      ]
    },
    {
      "cell_type": "code",
      "execution_count": null,
      "metadata": {
        "colab": {
          "background_save": true
        },
        "id": "EA2egz0-X0Ku"
      },
      "outputs": [],
      "source": []
    }
  ],
  "metadata": {
    "accelerator": "GPU",
    "colab": {
      "provenance": []
    },
    "gpuClass": "standard",
    "kernelspec": {
      "display_name": "Python 3",
      "name": "python3"
    },
    "language_info": {
      "codemirror_mode": {
        "name": "ipython",
        "version": 3
      },
      "file_extension": ".py",
      "mimetype": "text/x-python",
      "name": "python",
      "nbconvert_exporter": "python",
      "pygments_lexer": "ipython3",
      "version": "3.5.2"
    },
    "toc": {
      "base_numbering": "",
      "nav_menu": {},
      "number_sections": false,
      "sideBar": true,
      "skip_h1_title": false,
      "title_cell": "目次",
      "title_sidebar": "Contents",
      "toc_cell": false,
      "toc_position": {
        "height": "609px",
        "left": "385px",
        "top": "429px",
        "width": "288px"
      },
      "toc_section_display": true,
      "toc_window_display": false
    }
  },
  "nbformat": 4,
  "nbformat_minor": 0
}